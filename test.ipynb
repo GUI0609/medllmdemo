{
 "cells": [
  {
   "cell_type": "code",
   "execution_count": 5,
   "metadata": {},
   "outputs": [],
   "source": [
    "#!/usr/bin/env python\n",
    "import logging\n",
    "import os\n",
    "from json import dumps\n",
    "from textwrap import dedent\n",
    "from typing import cast\n",
    "\n",
    "import neo4j\n",
    "\n",
    "from neo4j import GraphDatabase, basic_auth\n",
    "from typing_extensions import LiteralString\n",
    "\n",
    "\n",
    "\n",
    "url = os.getenv(\"NEO4J_URI\", \"bolt://124.220.2.168:7687\")\n",
    "username = os.getenv(\"NEO4J_USER\", \"neo4j\")\n",
    "password = os.getenv(\"NEO4J_PASSWORD\", \"copd1234\")\n",
    "neo4j_version = os.getenv(\"NEO4J_VERSION\", \"4\")\n",
    "database = os.getenv(\"NEO4J_DATABASE\", \"hod.db\")\n",
    "\n",
    "port = int(os.getenv(\"PORT\", 8080))\n",
    "\n",
    "driver = GraphDatabase.driver(url, auth=basic_auth(username, password))\n"
   ]
  },
  {
   "cell_type": "code",
   "execution_count": 6,
   "metadata": {},
   "outputs": [],
   "source": [
    "\n",
    "def query(q: LiteralString) -> LiteralString:\n",
    "    # this is a safe transform:\n",
    "    # no way for cypher injection by trimming whitespace\n",
    "    # hence, we can safely cast to LiteralString\n",
    "    return cast(LiteralString, dedent(q).strip())"
   ]
  },
  {
   "cell_type": "code",
   "execution_count": 9,
   "metadata": {},
   "outputs": [],
   "source": [
    "records, _, _ = driver.execute_query(\n",
    "    query(\"\"\"\n",
    "        MATCH (n)-[r]->(m)\n",
    "        RETURN n, r, m\n",
    "        LIMIT $limit\n",
    "    \"\"\"),\n",
    "    database_=database,\n",
    "    routing_=\"r\",\n",
    "    limit=2\n",
    ")\n",
    "nodes = []\n",
    "rels = []\n",
    "for record in records:\n",
    "    a = record\n",
    "    break"
   ]
  },
  {
   "cell_type": "code",
   "execution_count": 16,
   "metadata": {},
   "outputs": [
    {
     "data": {
      "text/plain": [
       "'155731'"
      ]
     },
     "execution_count": 16,
     "metadata": {},
     "output_type": "execute_result"
    }
   ],
   "source": [
    "a[0].element_id"
   ]
  },
  {
   "cell_type": "code",
   "execution_count": 123,
   "metadata": {},
   "outputs": [],
   "source": [
    "\n",
    "def serialize_node(node):\n",
    "    return {\n",
    "        \"id\": node.element_id,\n",
    "        \"name\": node[\"name\"],\n",
    "        # \"labels\": list(node.labels)[0],\n",
    "        # \"content\": node['content']\n",
    "    }\n"
   ]
  },
  {
   "cell_type": "code",
   "execution_count": 121,
   "metadata": {},
   "outputs": [],
   "source": [
    "\n",
    "def get_graph():\n",
    "    records, _, _ = driver.execute_query(\n",
    "        query(\"\"\"\n",
    "            MATCH (n)-[r]->(m)\n",
    "            RETURN n, r, m\n",
    "            LIMIT $limit\n",
    "        \"\"\"),\n",
    "        database_=database,\n",
    "        routing_=\"r\",\n",
    "        limit=5\n",
    "    )\n",
    "    nodes = []\n",
    "    rels = []\n",
    "    for record in records:\n",
    "        a = record\n",
    "        start_node = serialize_node(record[0])\n",
    "        end_node = serialize_node(record[2])\n",
    "        rel = record[1]\n",
    "        # 添加起始节点和结束节点\n",
    "        if start_node not in nodes:\n",
    "            nodes.append(start_node)\n",
    "        if end_node not in nodes:\n",
    "            nodes.append(end_node)\n",
    "        # 添加关系\n",
    "        rels.append({\"source\": nodes.index(start_node), \"target\": nodes.index(end_node), \"type\": rel.type})\n",
    "    return {\"nodes\": nodes, \"links\": rels}"
   ]
  },
  {
   "cell_type": "code",
   "execution_count": 122,
   "metadata": {},
   "outputs": [
    {
     "data": {
      "text/plain": [
       "{'nodes': [{'id': '155731', 'name': 'Alexander disease'},\n",
       "  {'id': '155782', 'name': 'HP:0001645'},\n",
       "  {'id': '155792', 'name': 'HP:0100716'},\n",
       "  {'id': '155791', 'name': 'HP:0012332'},\n",
       "  {'id': '155790', 'name': 'HP:0007481'},\n",
       "  {'id': '155789', 'name': 'HP:0003307'}],\n",
       " 'links': [{'source': 0, 'target': 1, 'type': 'clinical feature'},\n",
       "  {'source': 0, 'target': 2, 'type': 'clinical feature'},\n",
       "  {'source': 0, 'target': 3, 'type': 'clinical feature'},\n",
       "  {'source': 0, 'target': 4, 'type': 'clinical feature'},\n",
       "  {'source': 0, 'target': 5, 'type': 'clinical feature'}]}"
      ]
     },
     "execution_count": 122,
     "metadata": {},
     "output_type": "execute_result"
    }
   ],
   "source": [
    "get_graph()"
   ]
  },
  {
   "cell_type": "code",
   "execution_count": 142,
   "metadata": {},
   "outputs": [],
   "source": [
    "#!/usr/bin/env python\n",
    "import logging\n",
    "import os\n",
    "from contextlib import asynccontextmanager\n",
    "from textwrap import dedent\n",
    "from typing import Optional, cast\n",
    "\n",
    "import neo4j\n",
    "from fastapi import FastAPI, HTTPException\n",
    "from fastapi.responses import FileResponse\n",
    "from neo4j import AsyncGraphDatabase\n",
    "from typing_extensions import LiteralString\n",
    "driver = AsyncGraphDatabase.driver(url, auth=(username, password))\n",
    "def get_search(q: Optional[str] = None):\n",
    "    if q is None:\n",
    "        return []\n",
    "    records, _, _ = driver.execute_query(\n",
    "        query(f\"\"\"\n",
    "                MATCH (node)\n",
    "                WHERE toLower(node.name) CONTAINS toLower('{q}')\n",
    "                RETURN node\n",
    "        \"\"\"),\n",
    "        database_=database,\n",
    "        routing_=\"r\",\n",
    "    )\n",
    "    return [serialize_node(record[\"node\"]) for record in records]"
   ]
  },
  {
   "cell_type": "code",
   "execution_count": 143,
   "metadata": {},
   "outputs": [
    {
     "name": "stderr",
     "output_type": "stream",
     "text": [
      "C:\\Users\\xd\\AppData\\Local\\Temp\\ipykernel_27792\\2725328850.py:17: RuntimeWarning: coroutine 'AsyncDriver.execute_query' was never awaited\n",
      "  records, _, _ = driver.execute_query(\n",
      "RuntimeWarning: Enable tracemalloc to get the object allocation traceback\n"
     ]
    },
    {
     "ename": "TypeError",
     "evalue": "cannot unpack non-iterable coroutine object",
     "output_type": "error",
     "traceback": [
      "\u001b[1;31m---------------------------------------------------------------------------\u001b[0m",
      "\u001b[1;31mTypeError\u001b[0m                                 Traceback (most recent call last)",
      "Cell \u001b[1;32mIn[143], line 1\u001b[0m\n\u001b[1;32m----> 1\u001b[0m \u001b[43mget_search\u001b[49m\u001b[43m(\u001b[49m\u001b[38;5;124;43m'\u001b[39;49m\u001b[38;5;124;43msyndrome\u001b[39;49m\u001b[38;5;124;43m'\u001b[39;49m\u001b[43m)\u001b[49m\n",
      "Cell \u001b[1;32mIn[142], line 17\u001b[0m, in \u001b[0;36mget_search\u001b[1;34m(q)\u001b[0m\n\u001b[0;32m     15\u001b[0m \u001b[38;5;28;01mif\u001b[39;00m q \u001b[38;5;129;01mis\u001b[39;00m \u001b[38;5;28;01mNone\u001b[39;00m:\n\u001b[0;32m     16\u001b[0m     \u001b[38;5;28;01mreturn\u001b[39;00m []\n\u001b[1;32m---> 17\u001b[0m records, _, _ \u001b[38;5;241m=\u001b[39m driver\u001b[38;5;241m.\u001b[39mexecute_query(\n\u001b[0;32m     18\u001b[0m     query(\u001b[38;5;124mf\u001b[39m\u001b[38;5;124m\"\"\"\u001b[39m\n\u001b[0;32m     19\u001b[0m \u001b[38;5;124m            MATCH (node)\u001b[39m\n\u001b[0;32m     20\u001b[0m \u001b[38;5;124m            WHERE toLower(node.name) CONTAINS toLower(\u001b[39m\u001b[38;5;124m'\u001b[39m\u001b[38;5;132;01m{\u001b[39;00mq\u001b[38;5;132;01m}\u001b[39;00m\u001b[38;5;124m'\u001b[39m\u001b[38;5;124m)\u001b[39m\n\u001b[0;32m     21\u001b[0m \u001b[38;5;124m            RETURN node\u001b[39m\n\u001b[0;32m     22\u001b[0m \u001b[38;5;124m    \u001b[39m\u001b[38;5;124m\"\"\"\u001b[39m),\n\u001b[0;32m     23\u001b[0m     database_\u001b[38;5;241m=\u001b[39mdatabase,\n\u001b[0;32m     24\u001b[0m     routing_\u001b[38;5;241m=\u001b[39m\u001b[38;5;124m\"\u001b[39m\u001b[38;5;124mr\u001b[39m\u001b[38;5;124m\"\u001b[39m,\n\u001b[0;32m     25\u001b[0m )\n\u001b[0;32m     26\u001b[0m \u001b[38;5;28;01mreturn\u001b[39;00m [serialize_node(record[\u001b[38;5;124m\"\u001b[39m\u001b[38;5;124mnode\u001b[39m\u001b[38;5;124m\"\u001b[39m]) \u001b[38;5;28;01mfor\u001b[39;00m record \u001b[38;5;129;01min\u001b[39;00m records]\n",
      "\u001b[1;31mTypeError\u001b[0m: cannot unpack non-iterable coroutine object"
     ]
    }
   ],
   "source": [
    "get_search('syndrome')"
   ]
  },
  {
   "cell_type": "code",
   "execution_count": 135,
   "metadata": {},
   "outputs": [],
   "source": [
    "from flask import jsonify, current_app\n",
    "def get_search():\n",
    "\n",
    "    q = 'thalassemia'\n",
    "    records, _, _ = driver.execute_query(\n",
    "        query(\"\"\"\n",
    "            MATCH (node)\n",
    "            WHERE toLower(node.name) CONTAINS toLower($name)\n",
    "            RETURN node\n",
    "        \"\"\"),\n",
    "        name=q,\n",
    "        database_=database,\n",
    "        routing_=\"r\",\n",
    "    )\n",
    "    search_results = [serialize_node(record[\"node\"]) for record in records]\n",
    "        # 返回JSON响应\n",
    "    with current_app.app_context():\n",
    "        return jsonify(search_results)          \n",
    "            \n"
   ]
  },
  {
   "cell_type": "code",
   "execution_count": 136,
   "metadata": {},
   "outputs": [
    {
     "ename": "RuntimeError",
     "evalue": "Working outside of application context.\n\nThis typically means that you attempted to use functionality that needed\nthe current application. To solve this, set up an application context\nwith app.app_context(). See the documentation for more information.",
     "output_type": "error",
     "traceback": [
      "\u001b[1;31m---------------------------------------------------------------------------\u001b[0m",
      "\u001b[1;31mRuntimeError\u001b[0m                              Traceback (most recent call last)",
      "Cell \u001b[1;32mIn[136], line 1\u001b[0m\n\u001b[1;32m----> 1\u001b[0m \u001b[43mget_search\u001b[49m\u001b[43m(\u001b[49m\u001b[43m)\u001b[49m\n",
      "Cell \u001b[1;32mIn[135], line 17\u001b[0m, in \u001b[0;36mget_search\u001b[1;34m()\u001b[0m\n\u001b[0;32m     15\u001b[0m search_results \u001b[38;5;241m=\u001b[39m [serialize_node(record[\u001b[38;5;124m\"\u001b[39m\u001b[38;5;124mnode\u001b[39m\u001b[38;5;124m\"\u001b[39m]) \u001b[38;5;28;01mfor\u001b[39;00m record \u001b[38;5;129;01min\u001b[39;00m records]\n\u001b[0;32m     16\u001b[0m     \u001b[38;5;66;03m# 返回JSON响应\u001b[39;00m\n\u001b[1;32m---> 17\u001b[0m \u001b[38;5;28;01mwith\u001b[39;00m \u001b[43mcurrent_app\u001b[49m\u001b[38;5;241;43m.\u001b[39;49m\u001b[43mapp_context\u001b[49m():\n\u001b[0;32m     18\u001b[0m     \u001b[38;5;28;01mreturn\u001b[39;00m jsonify(search_results)\n",
      "File \u001b[1;32md:\\ANACONDA\\envs\\py39\\lib\\site-packages\\werkzeug\\local.py:318\u001b[0m, in \u001b[0;36m_ProxyLookup.__get__\u001b[1;34m(self, instance, owner)\u001b[0m\n\u001b[0;32m    315\u001b[0m     \u001b[38;5;28;01mreturn\u001b[39;00m \u001b[38;5;28mself\u001b[39m\n\u001b[0;32m    317\u001b[0m \u001b[38;5;28;01mtry\u001b[39;00m:\n\u001b[1;32m--> 318\u001b[0m     obj \u001b[38;5;241m=\u001b[39m \u001b[43minstance\u001b[49m\u001b[38;5;241;43m.\u001b[39;49m\u001b[43m_get_current_object\u001b[49m\u001b[43m(\u001b[49m\u001b[43m)\u001b[49m\n\u001b[0;32m    319\u001b[0m \u001b[38;5;28;01mexcept\u001b[39;00m \u001b[38;5;167;01mRuntimeError\u001b[39;00m:\n\u001b[0;32m    320\u001b[0m     \u001b[38;5;28;01mif\u001b[39;00m \u001b[38;5;28mself\u001b[39m\u001b[38;5;241m.\u001b[39mfallback \u001b[38;5;129;01mis\u001b[39;00m \u001b[38;5;28;01mNone\u001b[39;00m:\n",
      "File \u001b[1;32md:\\ANACONDA\\envs\\py39\\lib\\site-packages\\werkzeug\\local.py:519\u001b[0m, in \u001b[0;36mLocalProxy.__init__.<locals>._get_current_object\u001b[1;34m()\u001b[0m\n\u001b[0;32m    517\u001b[0m     obj \u001b[38;5;241m=\u001b[39m local\u001b[38;5;241m.\u001b[39mget()\n\u001b[0;32m    518\u001b[0m \u001b[38;5;28;01mexcept\u001b[39;00m \u001b[38;5;167;01mLookupError\u001b[39;00m:\n\u001b[1;32m--> 519\u001b[0m     \u001b[38;5;28;01mraise\u001b[39;00m \u001b[38;5;167;01mRuntimeError\u001b[39;00m(unbound_message) \u001b[38;5;28;01mfrom\u001b[39;00m \u001b[38;5;28;01mNone\u001b[39;00m\n\u001b[0;32m    521\u001b[0m \u001b[38;5;28;01mreturn\u001b[39;00m get_name(obj)\n",
      "\u001b[1;31mRuntimeError\u001b[0m: Working outside of application context.\n\nThis typically means that you attempted to use functionality that needed\nthe current application. To solve this, set up an application context\nwith app.app_context(). See the documentation for more information."
     ]
    }
   ],
   "source": [
    "get_search()"
   ]
  },
  {
   "cell_type": "code",
   "execution_count": 102,
   "metadata": {},
   "outputs": [],
   "source": [
    "def get_search():\n",
    "    try:\n",
    "        q = 'thalassemia'\n",
    "        records, _, _ = driver.execute_query(\n",
    "            query(\"\"\"\n",
    "                MATCH (node)\n",
    "                WHERE toLower(node.name) CONTAINS toLower($name)\n",
    "                RETURN node\n",
    "            \"\"\"),\n",
    "            name=q,\n",
    "            database_=database,\n",
    "            routing_=\"r\",\n",
    "        )\n",
    "        return {\"nodes\": [serialize_node(record[\"node\"]) for record in records]}\n",
    "            # dumps([serialize_node(record[\"node\"]) for record in records]),\n",
    "           \n",
    "    except KeyError:\n",
    "        return []"
   ]
  },
  {
   "cell_type": "code",
   "execution_count": 124,
   "metadata": {},
   "outputs": [],
   "source": [
    "def get_search():\n",
    "    try:\n",
    "        q = 'thalassemia'\n",
    "        records, _, _ = driver.execute_query(\n",
    "            query(\"\"\"\n",
    "                MATCH (node)\n",
    "                WHERE toLower(node.name) CONTAINS toLower($name)\n",
    "                RETURN node\n",
    "            \"\"\"),\n",
    "            name=q,\n",
    "            database_=database,\n",
    "            routing_=\"r\",\n",
    "        )\n",
    "        return dumps([serialize_node(record[\"node\"]) for record in records])\n",
    "    except KeyError:\n",
    "        return []"
   ]
  },
  {
   "cell_type": "code",
   "execution_count": 125,
   "metadata": {},
   "outputs": [
    {
     "data": {
      "text/plain": [
       "'[{\"id\": \"156099\", \"name\": \"Beta-thalassemia\"}, {\"id\": \"156137\", \"name\": \"Alpha-thalassemia\"}, {\"id\": \"157937\", \"name\": \"Alpha-thalassemia-X-linked intellectual disability syndrome\"}, {\"id\": \"159853\", \"name\": \"Hereditary persistence of fetal hemoglobin-beta-thalassemia syndrome\"}, {\"id\": \"160854\", \"name\": \"Alpha-thalassemia-intellectual disability syndrome linked to chromosome 16\"}, {\"id\": \"161402\", \"name\": \"Dominant beta-thalassemia\"}, {\"id\": \"161414\", \"name\": \"Beta-thalassemia major\"}, {\"id\": \"161424\", \"name\": \"Beta-thalassemia-X-linked thrombocytopenia syndrome\"}, {\"id\": \"161425\", \"name\": \"Alpha-thalassemia-myelodysplastic syndrome\"}, {\"id\": \"161426\", \"name\": \"Hemoglobin C-beta-thalassemia syndrome\"}, {\"id\": \"161427\", \"name\": \"Hemoglobin E-beta-thalassemia syndrome\"}, {\"id\": \"161428\", \"name\": \"Delta-beta-thalassemia\"}, {\"id\": \"165689\", \"name\": \"Beta-thalassemia intermedia\"}, {\"id\": \"168486\", \"name\": \"Sickle cell-beta-thalassemia disease syndrome\"}, {\"id\": \"168705\", \"name\": \"Hemoglobin Lepore-beta-thalassemia syndrome\"}, {\"id\": \"202855\", \"name\": \"Beta-thalassemia and related diseases\"}, {\"id\": \"202863\", \"name\": \"Alpha-thalassemia and related disorders\"}, {\"id\": \"203450\", \"name\": \"Beta-thalassemia with other manifestations\"}, {\"id\": \"203451\", \"name\": \"Beta-thalassemia-trichothiodystrophy syndrome\"}, {\"id\": \"203452\", \"name\": \"Beta-thalassemia associated with another hemoglobin anomaly\"}, {\"id\": \"203479\", \"name\": \"Syndrome with alpha-thalassemia as a major feature\"}]'"
      ]
     },
     "execution_count": 125,
     "metadata": {},
     "output_type": "execute_result"
    }
   ],
   "source": [
    "get_search()"
   ]
  },
  {
   "cell_type": "code",
   "execution_count": 106,
   "metadata": {},
   "outputs": [],
   "source": [
    "from flask import Flask, Response, request\n",
    "def get_search():\n",
    "    try:\n",
    "        q = 'thalassemia'\n",
    "        records, _, _ = driver.execute_query(\n",
    "            query(\"\"\"\n",
    "                MATCH (node)\n",
    "                WHERE toLower(node.name) CONTAINS toLower($name)\n",
    "                RETURN node\n",
    "            \"\"\"),\n",
    "            name=q,\n",
    "            database_=database,\n",
    "            routing_=\"r\",\n",
    "        )\n",
    "        return Response(\n",
    "            dumps([serialize_node(record[\"node\"]) for record in records]),            \n",
    "            mimetype=\"application/json\"\n",
    "        )\n",
    "\n",
    "\n",
    "    except KeyError:\n",
    "        return []"
   ]
  },
  {
   "cell_type": "code",
   "execution_count": null,
   "metadata": {},
   "outputs": [],
   "source": []
  }
 ],
 "metadata": {
  "kernelspec": {
   "display_name": "py39",
   "language": "python",
   "name": "python3"
  },
  "language_info": {
   "codemirror_mode": {
    "name": "ipython",
    "version": 3
   },
   "file_extension": ".py",
   "mimetype": "text/x-python",
   "name": "python",
   "nbconvert_exporter": "python",
   "pygments_lexer": "ipython3",
   "version": "3.9.16"
  }
 },
 "nbformat": 4,
 "nbformat_minor": 2
}
